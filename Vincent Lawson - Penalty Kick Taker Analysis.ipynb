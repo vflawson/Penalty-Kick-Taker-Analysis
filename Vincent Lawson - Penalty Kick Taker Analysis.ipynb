{
 "cells": [
  {
   "cell_type": "markdown",
   "id": "5e4c48ca-8d5f-4859-bc2e-84959ce86fe3",
   "metadata": {},
   "source": [
    "# Penalty Kick Taker Correlation Analysis - Vincent Lawson"
   ]
  },
  {
   "cell_type": "markdown",
   "id": "87dc9efd-d5c5-45a2-b7aa-0cba2968b7ce",
   "metadata": {},
   "source": [
    "### Sources: Penalty Kick Data (DOI: e0315017 Vollmer, Schoch, Brandes), European Soccer Database (Kaggle)"
   ]
  },
  {
   "cell_type": "markdown",
   "id": "2b6f5560-9543-4415-ab0e-31456296d6ca",
   "metadata": {},
   "source": [
    "#### Date: 7/14/25"
   ]
  },
  {
   "cell_type": "code",
   "execution_count": 2,
   "id": "c6801ab3-cb7c-4b6a-9193-cb7fc5c5d1a0",
   "metadata": {},
   "outputs": [],
   "source": [
    "import warnings\n",
    "warnings.filterwarnings('ignore')"
   ]
  },
  {
   "cell_type": "code",
   "execution_count": 3,
   "id": "30a94fd1-83b8-4711-9a25-e3903960ef70",
   "metadata": {},
   "outputs": [],
   "source": [
    "import pandas as pd\n",
    "import numpy as np\n",
    "import kaggle\n",
    "import kagglehub\n",
    "import shutil\n",
    "import os\n",
    "import sqlite3\n",
    "import re"
   ]
  },
  {
   "cell_type": "markdown",
   "id": "9e0b3c77-6681-476d-9491-dac1eb868376",
   "metadata": {},
   "source": [
    "## Loading Datasets"
   ]
  },
  {
   "cell_type": "code",
   "execution_count": 4,
   "id": "77863bd5-c3a5-4f7f-929b-6f3f776051dc",
   "metadata": {},
   "outputs": [
    {
     "name": "stdout",
     "output_type": "stream",
     "text": [
      "Warning: Looks like you're using an outdated `kagglehub` version, please consider updating (latest version: 0.3.12)\n"
     ]
    }
   ],
   "source": [
    "path = kagglehub.dataset_download(\"hugomathien/soccer\")"
   ]
  },
  {
   "cell_type": "code",
   "execution_count": 7,
   "id": "4234920b-9348-4a29-94f7-301b76775ae4",
   "metadata": {},
   "outputs": [
    {
     "name": "stdout",
     "output_type": "stream",
     "text": [
      "                name\n",
      "0    sqlite_sequence\n",
      "1  Player_Attributes\n",
      "2             Player\n",
      "3              Match\n",
      "4             League\n",
      "5            Country\n",
      "6               Team\n",
      "7    Team_Attributes\n"
     ]
    }
   ],
   "source": [
    "conn = sqlite3.connect(r'...\\database.sqlite')\n",
    "\n",
    "tables = pd.read_sql_query(\"SELECT name FROM sqlite_master WHERE type='table';\", conn)\n",
    "print(tables)"
   ]
  },
  {
   "cell_type": "code",
   "execution_count": 8,
   "id": "b76da761-bb13-496e-b7e0-53ed6a4e8831",
   "metadata": {},
   "outputs": [],
   "source": [
    "player = pd.read_sql_query(\"SELECT * FROM Player\", conn)\n",
    "attr = pd.read_sql_query(\"SELECT * FROM Player_Attributes\", conn)"
   ]
  },
  {
   "cell_type": "code",
   "execution_count": 9,
   "id": "f8791237-5043-40c7-8da9-d27623a5f2bc",
   "metadata": {},
   "outputs": [],
   "source": [
    "pen = pd.read_csv(r'...\\data_final.csv')"
   ]
  },
  {
   "cell_type": "markdown",
   "id": "f1bf3d2a-0e1d-472c-aa0c-81bd98e6227b",
   "metadata": {},
   "source": [
    "### Cleaning Keys and Merging Datasets"
   ]
  },
  {
   "cell_type": "code",
   "execution_count": 10,
   "id": "1619b096-a897-4d66-8380-91289beebded",
   "metadata": {},
   "outputs": [],
   "source": [
    "player['player_name'] = player['player_name'].str.strip().str.lower().apply(lambda x: re.sub(r'[^\\w\\s]', '', x))\n",
    "pen['player_name'] = pen['player_name'].str.strip().str.lower().apply(lambda x: re.sub(r'[^\\w\\s]', '', x))"
   ]
  },
  {
   "cell_type": "code",
   "execution_count": 11,
   "id": "fe0544c9-50e3-4b00-aafd-5ec079ddb8b0",
   "metadata": {},
   "outputs": [
    {
     "data": {
      "text/plain": [
       "16008"
      ]
     },
     "execution_count": 11,
     "metadata": {},
     "output_type": "execute_result"
    }
   ],
   "source": [
    "pen_player = pd.merge(player, pen, left_on='player_name', right_on='player_name', how='inner')\n",
    "len(pen_player)"
   ]
  },
  {
   "cell_type": "code",
   "execution_count": 12,
   "id": "57bfea62-259d-46d6-9693-a9223c1b786e",
   "metadata": {},
   "outputs": [
    {
     "data": {
      "text/html": [
       "<div>\n",
       "<style scoped>\n",
       "    .dataframe tbody tr th:only-of-type {\n",
       "        vertical-align: middle;\n",
       "    }\n",
       "\n",
       "    .dataframe tbody tr th {\n",
       "        vertical-align: top;\n",
       "    }\n",
       "\n",
       "    .dataframe thead th {\n",
       "        text-align: right;\n",
       "    }\n",
       "</style>\n",
       "<table border=\"1\" class=\"dataframe\">\n",
       "  <thead>\n",
       "    <tr style=\"text-align: right;\">\n",
       "      <th></th>\n",
       "      <th>id</th>\n",
       "      <th>player_api_id</th>\n",
       "      <th>player_name</th>\n",
       "      <th>player_fifa_api_id</th>\n",
       "      <th>birthday</th>\n",
       "      <th>height</th>\n",
       "      <th>weight</th>\n",
       "      <th>matchday</th>\n",
       "      <th>OfficialMatchName</th>\n",
       "      <th>FinalResult</th>\n",
       "      <th>...</th>\n",
       "      <th>SeasonID</th>\n",
       "      <th>homeTeamName</th>\n",
       "      <th>awayTeamName</th>\n",
       "      <th>TypePhaseName</th>\n",
       "      <th>EventTypeName</th>\n",
       "      <th>ScoreBefore</th>\n",
       "      <th>fcompMatchID</th>\n",
       "      <th>country</th>\n",
       "      <th>TournamentName</th>\n",
       "      <th>order</th>\n",
       "    </tr>\n",
       "  </thead>\n",
       "  <tbody>\n",
       "    <tr>\n",
       "      <th>0</th>\n",
       "      <td>2</td>\n",
       "      <td>155782</td>\n",
       "      <td>aaron cresswell</td>\n",
       "      <td>189615</td>\n",
       "      <td>1989-12-15 00:00:00</td>\n",
       "      <td>170.18</td>\n",
       "      <td>146</td>\n",
       "      <td>Fourth Round</td>\n",
       "      <td>West Ham United - Manchester City</td>\n",
       "      <td>5:3 on pens</td>\n",
       "      <td>...</td>\n",
       "      <td>2021</td>\n",
       "      <td>West Ham United</td>\n",
       "      <td>Manchester City</td>\n",
       "      <td>Penalty Shoot-Out</td>\n",
       "      <td>Goal</td>\n",
       "      <td>3:2</td>\n",
       "      <td>1165</td>\n",
       "      <td>England</td>\n",
       "      <td>cups/cgb-efl-cup</td>\n",
       "      <td>7.0</td>\n",
       "    </tr>\n",
       "    <tr>\n",
       "      <th>1</th>\n",
       "      <td>2</td>\n",
       "      <td>155782</td>\n",
       "      <td>aaron cresswell</td>\n",
       "      <td>189615</td>\n",
       "      <td>1989-12-15 00:00:00</td>\n",
       "      <td>170.18</td>\n",
       "      <td>146</td>\n",
       "      <td>Third Round Replay</td>\n",
       "      <td>West Ham United - Everton FC</td>\n",
       "      <td>11:10 on pens</td>\n",
       "      <td>...</td>\n",
       "      <td>2014</td>\n",
       "      <td>West Ham United</td>\n",
       "      <td>Everton FC</td>\n",
       "      <td>Penalty Shoot-Out</td>\n",
       "      <td>Goal</td>\n",
       "      <td>3:3</td>\n",
       "      <td>2407</td>\n",
       "      <td>England</td>\n",
       "      <td>cups/fac-fa-cup</td>\n",
       "      <td>8.0</td>\n",
       "    </tr>\n",
       "  </tbody>\n",
       "</table>\n",
       "<p>2 rows × 31 columns</p>\n",
       "</div>"
      ],
      "text/plain": [
       "   id  player_api_id      player_name  player_fifa_api_id  \\\n",
       "0   2         155782  aaron cresswell              189615   \n",
       "1   2         155782  aaron cresswell              189615   \n",
       "\n",
       "              birthday  height  weight            matchday  \\\n",
       "0  1989-12-15 00:00:00  170.18     146        Fourth Round   \n",
       "1  1989-12-15 00:00:00  170.18     146  Third Round Replay   \n",
       "\n",
       "                   OfficialMatchName    FinalResult  ... SeasonID  \\\n",
       "0  West Ham United - Manchester City    5:3 on pens  ...     2021   \n",
       "1       West Ham United - Everton FC  11:10 on pens  ...     2014   \n",
       "\n",
       "      homeTeamName     awayTeamName      TypePhaseName EventTypeName  \\\n",
       "0  West Ham United  Manchester City  Penalty Shoot-Out          Goal   \n",
       "1  West Ham United       Everton FC  Penalty Shoot-Out          Goal   \n",
       "\n",
       "  ScoreBefore fcompMatchID  country    TournamentName  order  \n",
       "0         3:2         1165  England  cups/cgb-efl-cup    7.0  \n",
       "1         3:3         2407  England   cups/fac-fa-cup    8.0  \n",
       "\n",
       "[2 rows x 31 columns]"
      ]
     },
     "execution_count": 12,
     "metadata": {},
     "output_type": "execute_result"
    }
   ],
   "source": [
    "pen_player.head(2)"
   ]
  },
  {
   "cell_type": "markdown",
   "id": "f6fdfa38-b3ee-42cb-b6f3-2241bfc626b0",
   "metadata": {},
   "source": [
    "## Exploring Age on Penalty Success"
   ]
  },
  {
   "cell_type": "code",
   "execution_count": 13,
   "id": "aaf0a2c8-ee34-48ea-95ab-7537912348cc",
   "metadata": {},
   "outputs": [
    {
     "data": {
      "text/plain": [
       "outcome\n",
       "scored           12571\n",
       "saved             2378\n",
       "missed             951\n",
       "not reported        21\n",
       "not scored           3\n",
       "infringements        3\n",
       "Name: count, dtype: int64"
      ]
     },
     "execution_count": 13,
     "metadata": {},
     "output_type": "execute_result"
    }
   ],
   "source": [
    "pen_player['outcome'].value_counts()"
   ]
  },
  {
   "cell_type": "code",
   "execution_count": 14,
   "id": "aaf3e153-ea5e-48ed-8d9c-74dd28acb24d",
   "metadata": {},
   "outputs": [],
   "source": [
    "#Filtering penalty kick outliers\n",
    "pen_player = pen_player[~pen_player['outcome'].isin(['not reported', 'infringements', 'not scored'])]"
   ]
  },
  {
   "cell_type": "code",
   "execution_count": 15,
   "id": "02f74c79-3fa7-476c-9222-b8b8a513081d",
   "metadata": {},
   "outputs": [],
   "source": [
    "#Calculating player age during each game (row)\n",
    "pen_player['birth_year'] = pd.to_datetime(pen_player['birthday']).dt.year\n",
    "pen_player['age_at_game'] = pen_player['SeasonID'] - pen_player['birth_year']"
   ]
  },
  {
   "cell_type": "code",
   "execution_count": 16,
   "id": "aa7e05be-4383-4008-bbeb-bf7229a0d10f",
   "metadata": {},
   "outputs": [],
   "source": [
    "#Grouping outcomes and creating numeric classification variable\n",
    "pen_player['outcome'] = np.where(pen_player['outcome'] == 'scored', 'scored', 'did not score')\n",
    "pen_player['scored'] = pen_player['outcome'].map({'scored': 1, 'did not score': 0})"
   ]
  },
  {
   "cell_type": "code",
   "execution_count": 17,
   "id": "d2791d1e-b71c-48a3-b042-7a1d87cc3ed6",
   "metadata": {},
   "outputs": [
    {
     "name": "stdout",
     "output_type": "stream",
     "text": [
      "Optimization terminated successfully.\n",
      "         Current function value: 0.518266\n",
      "         Iterations 5\n",
      "                           Logit Regression Results                           \n",
      "==============================================================================\n",
      "Dep. Variable:                 scored   No. Observations:                15981\n",
      "Model:                          Logit   Df Residuals:                    15979\n",
      "Method:                           MLE   Df Model:                            1\n",
      "Date:                Mon, 14 Jul 2025   Pseudo R-squ.:               0.0002547\n",
      "Time:                        12:52:21   Log-Likelihood:                -8282.4\n",
      "converged:                       True   LL-Null:                       -8284.5\n",
      "Covariance Type:            nonrobust   LLR p-value:                   0.03994\n",
      "===============================================================================\n",
      "                  coef    std err          z      P>|z|      [0.025      0.975]\n",
      "-------------------------------------------------------------------------------\n",
      "const           1.0403      0.130      7.997      0.000       0.785       1.295\n",
      "age_at_game     0.0094      0.005      2.051      0.040       0.000       0.018\n",
      "===============================================================================\n"
     ]
    }
   ],
   "source": [
    "#Running logistic regression to evaluate age of players on penalty kick performance\n",
    "from sklearn.linear_model import LogisticRegression\n",
    "from sklearn.model_selection import train_test_split\n",
    "import statsmodels.api as sm\n",
    "\n",
    "X = pen_player[['age_at_game']]\n",
    "X = sm.add_constant(X)\n",
    "y = pen_player['scored']\n",
    "\n",
    "logit_model = sm.Logit(y, X)\n",
    "result = logit_model.fit()\n",
    "print(result.summary())"
   ]
  },
  {
   "cell_type": "code",
   "execution_count": 18,
   "id": "19310870-3103-46e0-80c3-7bf2c1b983a9",
   "metadata": {},
   "outputs": [
    {
     "data": {
      "text/plain": [
       "CompetitionShortName\n",
       "leag    10239\n",
       "cups     4628\n",
       "int       820\n",
       "nat       294\n",
       "Name: count, dtype: int64"
      ]
     },
     "execution_count": 18,
     "metadata": {},
     "output_type": "execute_result"
    }
   ],
   "source": [
    "pen_player['CompetitionShortName'].value_counts()"
   ]
  },
  {
   "cell_type": "code",
   "execution_count": 19,
   "id": "0f4b78f4-049e-4067-b43a-f15f0b6e9645",
   "metadata": {},
   "outputs": [],
   "source": [
    "#Creating data subset for cup/international games\n",
    "pen_comp = pen_player[pen_player['CompetitionShortName'] != 'leag']"
   ]
  },
  {
   "cell_type": "code",
   "execution_count": 20,
   "id": "d0d90c98-d8de-4547-a52d-d85d7904c511",
   "metadata": {},
   "outputs": [
    {
     "name": "stdout",
     "output_type": "stream",
     "text": [
      "Optimization terminated successfully.\n",
      "         Current function value: 0.529010\n",
      "         Iterations 5\n",
      "                           Logit Regression Results                           \n",
      "==============================================================================\n",
      "Dep. Variable:                 scored   No. Observations:                 5742\n",
      "Model:                          Logit   Df Residuals:                     5740\n",
      "Method:                           MLE   Df Model:                            1\n",
      "Date:                Mon, 14 Jul 2025   Pseudo R-squ.:                0.001726\n",
      "Time:                        12:52:21   Log-Likelihood:                -3037.6\n",
      "converged:                       True   LL-Null:                       -3042.8\n",
      "Covariance Type:            nonrobust   LLR p-value:                  0.001192\n",
      "===============================================================================\n",
      "                  coef    std err          z      P>|z|      [0.025      0.975]\n",
      "-------------------------------------------------------------------------------\n",
      "const           0.5966      0.205      2.914      0.004       0.195       0.998\n",
      "age_at_game     0.0233      0.007      3.225      0.001       0.009       0.037\n",
      "===============================================================================\n"
     ]
    }
   ],
   "source": [
    "# Rerunning logistic regresssion with cup/international data\n",
    "\n",
    "X = pen_comp[['age_at_game']]\n",
    "X = sm.add_constant(X)\n",
    "y = pen_comp['scored']\n",
    "\n",
    "logit_model = sm.Logit(y, X)\n",
    "result = logit_model.fit()\n",
    "print(result.summary())"
   ]
  },
  {
   "cell_type": "code",
   "execution_count": 21,
   "id": "d2bfbce6-5d6f-4b8d-b93a-318aa2a69cd6",
   "metadata": {},
   "outputs": [
    {
     "data": {
      "text/plain": [
       "<Axes: title={'center': 'Penalty Success Rate by Age Band'}, xlabel='age_band', ylabel='Scoring Rate'>"
      ]
     },
     "execution_count": 21,
     "metadata": {},
     "output_type": "execute_result"
    },
    {
     "data": {
      "image/png": "[encoded data removed]",
      "text/plain": [
       "<Figure size 640x480 with 1 Axes>"
      ]
     },
     "metadata": {},
     "output_type": "display_data"
    }
   ],
   "source": [
    "pen_player['age_band'] = pd.cut(pen_player['age_at_game'], bins=[15, 20, 25, 30, 35, 40, 45])\n",
    "success_rates = pen_player.groupby('age_band')['scored'].mean()\n",
    "\n",
    "success_rates.plot(kind='bar', ylabel='Scoring Rate', title='Penalty Success Rate by Age Band')"
   ]
  },
  {
   "cell_type": "code",
   "execution_count": 22,
   "id": "93e7ffd8-aa33-44be-af2f-fb59eac7d35a",
   "metadata": {},
   "outputs": [
    {
     "data": {
      "text/plain": [
       "<Axes: title={'center': 'Penalty Success Rate by Age Band'}, xlabel='age_band', ylabel='Scoring Rate'>"
      ]
     },
     "execution_count": 22,
     "metadata": {},
     "output_type": "execute_result"
    },
    {
     "data": {
      "image/png": "[encoded data removed]",
      "text/plain": [
       "<Figure size 640x480 with 1 Axes>"
      ]
     },
     "metadata": {},
     "output_type": "display_data"
    }
   ],
   "source": [
    "pen_comp['age_band'] = pd.cut(pen_comp['age_at_game'], bins=[15, 20, 25, 30, 35, 40, 45])\n",
    "success_rates = pen_comp.groupby('age_band')['scored'].mean()\n",
    "\n",
    "success_rates.plot(kind='bar', ylabel='Scoring Rate', title='Penalty Success Rate by Age Band')"
   ]
  },
  {
   "cell_type": "markdown",
   "id": "40f48ea1-3a60-4964-a3dd-28828635ea30",
   "metadata": {},
   "source": [
    "## Exploring Fifa Penalty Rating on Penalty Success"
   ]
  },
  {
   "cell_type": "code",
   "execution_count": 23,
   "id": "5395191c-52de-4800-a046-7918fa014f13",
   "metadata": {},
   "outputs": [],
   "source": [
    "#Standardizing penalty ratings to prepare for joining data\n",
    "attr_pen = attr.sort_values('penalties', ascending=False).drop_duplicates('player_api_id')"
   ]
  },
  {
   "cell_type": "code",
   "execution_count": 24,
   "id": "6dfc26ff-1dff-457a-b6cc-eef9353d345b",
   "metadata": {},
   "outputs": [],
   "source": [
    "pen_fifa = pd.merge(\n",
    "    pen_player,\n",
    "    attr_pen[['player_api_id', 'penalties']].rename(columns={'penalties': 'penalty_rating'}),\n",
    "    on='player_api_id',\n",
    "    how='left'\n",
    ")"
   ]
  },
  {
   "cell_type": "code",
   "execution_count": 25,
   "id": "5a15866c-e20b-45b7-8958-6dcb59248f7c",
   "metadata": {},
   "outputs": [
    {
     "data": {
      "text/html": [
       "<div>\n",
       "<style scoped>\n",
       "    .dataframe tbody tr th:only-of-type {\n",
       "        vertical-align: middle;\n",
       "    }\n",
       "\n",
       "    .dataframe tbody tr th {\n",
       "        vertical-align: top;\n",
       "    }\n",
       "\n",
       "    .dataframe thead th {\n",
       "        text-align: right;\n",
       "    }\n",
       "</style>\n",
       "<table border=\"1\" class=\"dataframe\">\n",
       "  <thead>\n",
       "    <tr style=\"text-align: right;\">\n",
       "      <th></th>\n",
       "      <th>id</th>\n",
       "      <th>player_api_id</th>\n",
       "      <th>player_name</th>\n",
       "      <th>player_fifa_api_id</th>\n",
       "      <th>birthday</th>\n",
       "      <th>height</th>\n",
       "      <th>weight</th>\n",
       "      <th>matchday</th>\n",
       "      <th>OfficialMatchName</th>\n",
       "      <th>FinalResult</th>\n",
       "      <th>...</th>\n",
       "      <th>ScoreBefore</th>\n",
       "      <th>fcompMatchID</th>\n",
       "      <th>country</th>\n",
       "      <th>TournamentName</th>\n",
       "      <th>order</th>\n",
       "      <th>birth_year</th>\n",
       "      <th>age_at_game</th>\n",
       "      <th>scored</th>\n",
       "      <th>age_band</th>\n",
       "      <th>penalty_rating</th>\n",
       "    </tr>\n",
       "  </thead>\n",
       "  <tbody>\n",
       "    <tr>\n",
       "      <th>0</th>\n",
       "      <td>2</td>\n",
       "      <td>155782</td>\n",
       "      <td>aaron cresswell</td>\n",
       "      <td>189615</td>\n",
       "      <td>1989-12-15 00:00:00</td>\n",
       "      <td>170.18</td>\n",
       "      <td>146</td>\n",
       "      <td>Fourth Round</td>\n",
       "      <td>West Ham United - Manchester City</td>\n",
       "      <td>5:3 on pens</td>\n",
       "      <td>...</td>\n",
       "      <td>3:2</td>\n",
       "      <td>1165</td>\n",
       "      <td>England</td>\n",
       "      <td>cups/cgb-efl-cup</td>\n",
       "      <td>7.0</td>\n",
       "      <td>1989</td>\n",
       "      <td>32</td>\n",
       "      <td>1</td>\n",
       "      <td>(30, 35]</td>\n",
       "      <td>59.0</td>\n",
       "    </tr>\n",
       "    <tr>\n",
       "      <th>1</th>\n",
       "      <td>2</td>\n",
       "      <td>155782</td>\n",
       "      <td>aaron cresswell</td>\n",
       "      <td>189615</td>\n",
       "      <td>1989-12-15 00:00:00</td>\n",
       "      <td>170.18</td>\n",
       "      <td>146</td>\n",
       "      <td>Third Round Replay</td>\n",
       "      <td>West Ham United - Everton FC</td>\n",
       "      <td>11:10 on pens</td>\n",
       "      <td>...</td>\n",
       "      <td>3:3</td>\n",
       "      <td>2407</td>\n",
       "      <td>England</td>\n",
       "      <td>cups/fac-fa-cup</td>\n",
       "      <td>8.0</td>\n",
       "      <td>1989</td>\n",
       "      <td>25</td>\n",
       "      <td>1</td>\n",
       "      <td>(20, 25]</td>\n",
       "      <td>59.0</td>\n",
       "    </tr>\n",
       "  </tbody>\n",
       "</table>\n",
       "<p>2 rows × 36 columns</p>\n",
       "</div>"
      ],
      "text/plain": [
       "   id  player_api_id      player_name  player_fifa_api_id  \\\n",
       "0   2         155782  aaron cresswell              189615   \n",
       "1   2         155782  aaron cresswell              189615   \n",
       "\n",
       "              birthday  height  weight            matchday  \\\n",
       "0  1989-12-15 00:00:00  170.18     146        Fourth Round   \n",
       "1  1989-12-15 00:00:00  170.18     146  Third Round Replay   \n",
       "\n",
       "                   OfficialMatchName    FinalResult  ... ScoreBefore  \\\n",
       "0  West Ham United - Manchester City    5:3 on pens  ...         3:2   \n",
       "1       West Ham United - Everton FC  11:10 on pens  ...         3:3   \n",
       "\n",
       "  fcompMatchID  country    TournamentName order birth_year age_at_game  \\\n",
       "0         1165  England  cups/cgb-efl-cup   7.0       1989          32   \n",
       "1         2407  England   cups/fac-fa-cup   8.0       1989          25   \n",
       "\n",
       "   scored  age_band  penalty_rating  \n",
       "0       1  (30, 35]            59.0  \n",
       "1       1  (20, 25]            59.0  \n",
       "\n",
       "[2 rows x 36 columns]"
      ]
     },
     "execution_count": 25,
     "metadata": {},
     "output_type": "execute_result"
    }
   ],
   "source": [
    "pen_fifa.head(2)"
   ]
  },
  {
   "cell_type": "code",
   "execution_count": 26,
   "id": "421fa0b6-0ff4-4129-b1cb-9e1e3d241364",
   "metadata": {},
   "outputs": [
    {
     "name": "stdout",
     "output_type": "stream",
     "text": [
      "Optimization terminated successfully.\n",
      "         Current function value: 0.517940\n",
      "         Iterations 5\n",
      "                           Logit Regression Results                           \n",
      "==============================================================================\n",
      "Dep. Variable:                 scored   No. Observations:                15981\n",
      "Model:                          Logit   Df Residuals:                    15979\n",
      "Method:                           MLE   Df Model:                            1\n",
      "Date:                Mon, 14 Jul 2025   Pseudo R-squ.:               0.0008841\n",
      "Time:                        12:52:24   Log-Likelihood:                -8277.2\n",
      "converged:                       True   LL-Null:                       -8284.5\n",
      "Covariance Type:            nonrobust   LLR p-value:                 0.0001295\n",
      "==================================================================================\n",
      "                     coef    std err          z      P>|z|      [0.025      0.975]\n",
      "----------------------------------------------------------------------------------\n",
      "const              0.9172      0.102      8.962      0.000       0.717       1.118\n",
      "penalty_rating     0.0057      0.001      3.840      0.000       0.003       0.009\n",
      "==================================================================================\n"
     ]
    }
   ],
   "source": [
    "#Running logistic regression to understand significance of FIFA penalty rating\n",
    "\n",
    "X = pen_fifa[['penalty_rating']]\n",
    "X = sm.add_constant(X)\n",
    "y = pen_fifa['scored']\n",
    "\n",
    "logit_model = sm.Logit(y, X)\n",
    "result = logit_model.fit()\n",
    "print(result.summary())"
   ]
  },
  {
   "cell_type": "code",
   "execution_count": 27,
   "id": "79320bd8-63bb-4808-8060-918dac86872a",
   "metadata": {},
   "outputs": [
    {
     "data": {
      "image/png": "[encoded data removed]",
      "text/plain": [
       "<Figure size 800x500 with 1 Axes>"
      ]
     },
     "metadata": {},
     "output_type": "display_data"
    }
   ],
   "source": [
    "#Visualizing logistic regression results\n",
    "import matplotlib.pyplot as plt\n",
    "from math import exp\n",
    "\n",
    "intercept = 0.9172\n",
    "coef = 0.0057\n",
    "ratings = np.linspace(pen_fifa['penalty_rating'].min(), pen_fifa['penalty_rating'].max(), 100)\n",
    "log_odds = intercept + coef * ratings\n",
    "probabilities = 1 / (1 + np.exp(-log_odds))\n",
    "mean_rating = pen_fifa['penalty_rating'].mean()\n",
    "\n",
    "plt.figure(figsize=(8, 5))\n",
    "plt.plot(ratings, probabilities, label='Logistic Curve')\n",
    "plt.axvline(mean_rating, color='red', linestyle='--', label=f'Mean Rating ({mean_rating:.1f})')\n",
    "plt.xlabel(\"FIFA Penalty Rating\")\n",
    "plt.ylabel(\"Predicted Probability of Scoring\")\n",
    "plt.title(\"Logistic Regression: FIFA Penalty Rating on Scoring Probability\")\n",
    "plt.legend()\n",
    "plt.grid(True)\n",
    "plt.show()"
   ]
  }
 ],
 "metadata": {
  "kernelspec": {
   "display_name": "Python [conda env:base] *",
   "language": "python",
   "name": "conda-base-py"
  },
  "language_info": {
   "codemirror_mode": {
    "name": "ipython",
    "version": 3
   },
   "file_extension": ".py",
   "mimetype": "text/x-python",
   "name": "python",
   "nbconvert_exporter": "python",
   "pygments_lexer": "ipython3",
   "version": "3.13.5"
  }
 },
 "nbformat": 4,
 "nbformat_minor": 5
}
